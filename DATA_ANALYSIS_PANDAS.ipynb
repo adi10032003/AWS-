{
  "nbformat": 4,
  "nbformat_minor": 0,
  "metadata": {
    "colab": {
      "provenance": [],
      "authorship_tag": "ABX9TyPwF3gnmbdw0MWMvu0PNABA",
      "include_colab_link": true
    },
    "kernelspec": {
      "name": "python3",
      "display_name": "Python 3"
    },
    "language_info": {
      "name": "python"
    }
  },
  "cells": [
    {
      "cell_type": "markdown",
      "metadata": {
        "id": "view-in-github",
        "colab_type": "text"
      },
      "source": [
        "<a href=\"https://colab.research.google.com/github/adi10032003/AWS-/blob/main/DATA_ANALYSIS_PANDAS.ipynb\" target=\"_parent\"><img src=\"https://colab.research.google.com/assets/colab-badge.svg\" alt=\"Open In Colab\"/></a>"
      ]
    },
    {
      "cell_type": "code",
      "execution_count": 14,
      "metadata": {
        "colab": {
          "base_uri": "https://localhost:8080/"
        },
        "id": "ttLTpnaFQxvU",
        "outputId": "36865455-54e8-4d87-b724-e61d470b4669"
      },
      "outputs": [
        {
          "output_type": "stream",
          "name": "stdout",
          "text": [
            "Om ganganpatye namah jay shri ram\n"
          ]
        }
      ],
      "source": [
        "print(\"Om ganganpatye namah jay shri ram\")"
      ]
    },
    {
      "cell_type": "code",
      "source": [
        "import numpy as np\n",
        "l1=[1,2,3,4,5]\n",
        "a=np.array(l1)\n",
        "a\n"
      ],
      "metadata": {
        "colab": {
          "base_uri": "https://localhost:8080/"
        },
        "id": "2TpdQy0pQ6Fo",
        "outputId": "60125534-7533-4233-d973-f53204b9ec61"
      },
      "execution_count": 15,
      "outputs": [
        {
          "output_type": "execute_result",
          "data": {
            "text/plain": [
              "array([1, 2, 3, 4, 5])"
            ]
          },
          "metadata": {},
          "execution_count": 15
        }
      ]
    },
    {
      "cell_type": "code",
      "source": [],
      "metadata": {
        "id": "2qo-TP5UNVB8"
      },
      "execution_count": 15,
      "outputs": []
    },
    {
      "cell_type": "code",
      "source": [
        "np.random.randint(10)\n",
        "a=np.random.randint(100,size=(3))"
      ],
      "metadata": {
        "id": "76cz837eQ6po"
      },
      "execution_count": 16,
      "outputs": []
    },
    {
      "cell_type": "code",
      "source": [
        "a.max()"
      ],
      "metadata": {
        "colab": {
          "base_uri": "https://localhost:8080/"
        },
        "id": "a542E8-_Q60z",
        "outputId": "47c885fe-f6bf-46e4-fa62-4ae7a84fc7a5"
      },
      "execution_count": 17,
      "outputs": [
        {
          "output_type": "execute_result",
          "data": {
            "text/plain": [
              "np.int64(64)"
            ]
          },
          "metadata": {},
          "execution_count": 17
        }
      ]
    },
    {
      "cell_type": "markdown",
      "source": [
        "**Array**"
      ],
      "metadata": {
        "id": "stDR_BcF8Mdp"
      }
    },
    {
      "cell_type": "code",
      "source": [
        "arr=np.array([1,2,3,4,5])\n",
        "print(arr[0])\n",
        "print(arr[-1])\n",
        "print(arr[-3:-1])\n",
        "print(arr[-3:])\n",
        "print(arr[:-1])"
      ],
      "metadata": {
        "id": "vmHybg4zQ7BF",
        "colab": {
          "base_uri": "https://localhost:8080/"
        },
        "outputId": "3fd047bb-db6b-470c-fdef-ff9c5656ccf8"
      },
      "execution_count": 18,
      "outputs": [
        {
          "output_type": "stream",
          "name": "stdout",
          "text": [
            "1\n",
            "5\n",
            "[3 4]\n",
            "[3 4 5]\n",
            "[1 2 3 4]\n"
          ]
        }
      ]
    },
    {
      "cell_type": "code",
      "source": [
        "arr = np.array([1, 2, 3, 4, 5, 6, 7])\n",
        "\n",
        "print(arr[1:5:2])"
      ],
      "metadata": {
        "id": "gjutZ3zjQ7Px",
        "colab": {
          "base_uri": "https://localhost:8080/"
        },
        "outputId": "70076789-e5ab-4408-88ca-8faf83b3860c"
      },
      "execution_count": 19,
      "outputs": [
        {
          "output_type": "stream",
          "name": "stdout",
          "text": [
            "[2 4]\n"
          ]
        }
      ]
    },
    {
      "cell_type": "code",
      "source": [
        "a1=np.array([1,2,3,4,5])\n"
      ],
      "metadata": {
        "id": "roQe5BW4Q7br"
      },
      "execution_count": 20,
      "outputs": []
    },
    {
      "cell_type": "code",
      "source": [
        "np.zeros(10)\n",
        "np.ones(10)\n",
        "np.full(10,5)\n",
        "np.arange(10,51)"
      ],
      "metadata": {
        "id": "QMlwngyWQ8At",
        "colab": {
          "base_uri": "https://localhost:8080/"
        },
        "outputId": "4ba4cb12-31f4-4e72-8e71-971f5b447505"
      },
      "execution_count": 21,
      "outputs": [
        {
          "output_type": "execute_result",
          "data": {
            "text/plain": [
              "array([10, 11, 12, 13, 14, 15, 16, 17, 18, 19, 20, 21, 22, 23, 24, 25, 26,\n",
              "       27, 28, 29, 30, 31, 32, 33, 34, 35, 36, 37, 38, 39, 40, 41, 42, 43,\n",
              "       44, 45, 46, 47, 48, 49, 50])"
            ]
          },
          "metadata": {},
          "execution_count": 21
        }
      ]
    },
    {
      "cell_type": "code",
      "source": [
        "np.arange(9).reshape(3,3)"
      ],
      "metadata": {
        "id": "0osaJIHyQ8Ls",
        "colab": {
          "base_uri": "https://localhost:8080/"
        },
        "outputId": "b8beb4e2-762e-4609-904c-5939c2546297"
      },
      "execution_count": 22,
      "outputs": [
        {
          "output_type": "execute_result",
          "data": {
            "text/plain": [
              "array([[0, 1, 2],\n",
              "       [3, 4, 5],\n",
              "       [6, 7, 8]])"
            ]
          },
          "metadata": {},
          "execution_count": 22
        }
      ]
    },
    {
      "cell_type": "code",
      "source": [
        "import pandas as pd\n",
        "import numpy as np"
      ],
      "metadata": {
        "id": "za1ZR-xPNXUQ"
      },
      "execution_count": 23,
      "outputs": []
    },
    {
      "cell_type": "code",
      "source": [
        "list1=[1,2,3,4]\n",
        "indexing=['a','b','c','d']\n",
        "pd.Series(list1,indexing)"
      ],
      "metadata": {
        "id": "ZICoEeToNXrN",
        "colab": {
          "base_uri": "https://localhost:8080/",
          "height": 210
        },
        "outputId": "87a0a83a-18ac-4783-a212-8b123bc19593"
      },
      "execution_count": 24,
      "outputs": [
        {
          "output_type": "execute_result",
          "data": {
            "text/plain": [
              "a    1\n",
              "b    2\n",
              "c    3\n",
              "d    4\n",
              "dtype: int64"
            ],
            "text/html": [
              "<div>\n",
              "<style scoped>\n",
              "    .dataframe tbody tr th:only-of-type {\n",
              "        vertical-align: middle;\n",
              "    }\n",
              "\n",
              "    .dataframe tbody tr th {\n",
              "        vertical-align: top;\n",
              "    }\n",
              "\n",
              "    .dataframe thead th {\n",
              "        text-align: right;\n",
              "    }\n",
              "</style>\n",
              "<table border=\"1\" class=\"dataframe\">\n",
              "  <thead>\n",
              "    <tr style=\"text-align: right;\">\n",
              "      <th></th>\n",
              "      <th>0</th>\n",
              "    </tr>\n",
              "  </thead>\n",
              "  <tbody>\n",
              "    <tr>\n",
              "      <th>a</th>\n",
              "      <td>1</td>\n",
              "    </tr>\n",
              "    <tr>\n",
              "      <th>b</th>\n",
              "      <td>2</td>\n",
              "    </tr>\n",
              "    <tr>\n",
              "      <th>c</th>\n",
              "      <td>3</td>\n",
              "    </tr>\n",
              "    <tr>\n",
              "      <th>d</th>\n",
              "      <td>4</td>\n",
              "    </tr>\n",
              "  </tbody>\n",
              "</table>\n",
              "</div><br><label><b>dtype:</b> int64</label>"
            ]
          },
          "metadata": {},
          "execution_count": 24
        }
      ]
    },
    {
      "cell_type": "code",
      "source": [
        "np.random.seed(10)"
      ],
      "metadata": {
        "id": "MTmm6R7xNYOe"
      },
      "execution_count": 25,
      "outputs": []
    },
    {
      "cell_type": "code",
      "source": [
        "df=pd.read_csv('/content/Crime_Data_from_2020_to_Present.csv')\n",
        "df\n",
        "df.shape"
      ],
      "metadata": {
        "id": "63_xHDxXNYaw",
        "colab": {
          "base_uri": "https://localhost:8080/"
        },
        "outputId": "97daf111-a757-415b-9cbc-6ba2ac2c1858"
      },
      "execution_count": 26,
      "outputs": [
        {
          "output_type": "stream",
          "name": "stderr",
          "text": [
            "<ipython-input-26-aad3c5f0eed5>:1: DtypeWarning: Columns (27) have mixed types. Specify dtype option on import or set low_memory=False.\n",
            "  df=pd.read_csv('/content/Crime_Data_from_2020_to_Present.csv')\n"
          ]
        },
        {
          "output_type": "execute_result",
          "data": {
            "text/plain": [
              "(56893, 28)"
            ]
          },
          "metadata": {},
          "execution_count": 26
        }
      ]
    },
    {
      "cell_type": "code",
      "source": [
        "df.head(10)\n",
        "df.columns\n",
        "df['DR_NO']\n",
        "df['DR_NO'].max()\n",
        "df['DR_NO'].min()\n",
        "df['DR_NO'].mean()\n",
        "#conditional select\n",
        "df[df.DR_NO==190326475]"
      ],
      "metadata": {
        "colab": {
          "base_uri": "https://localhost:8080/",
          "height": 200
        },
        "id": "5QyC5g_9mfPo",
        "outputId": "ed068df6-c705-4fc7-9394-ff8182134cca"
      },
      "execution_count": 27,
      "outputs": [
        {
          "output_type": "execute_result",
          "data": {
            "text/plain": [
              "       DR_NO               Date Rptd                DATE OCC  TIME OCC  AREA  \\\n",
              "0  190326475  03/01/2020 12:00:00 AM  03/01/2020 12:00:00 AM      2130     7   \n",
              "\n",
              "  AREA NAME  Rpt Dist No  Part 1-2  Crm Cd       Crm Cd Desc  ... Status  \\\n",
              "0  Wilshire          784         1     510  VEHICLE - STOLEN  ...     AA   \n",
              "\n",
              "    Status Desc Crm Cd 1 Crm Cd 2  Crm Cd 3 Crm Cd 4  \\\n",
              "0  Adult Arrest    510.0    998.0       NaN      NaN   \n",
              "\n",
              "                                  LOCATION Cross Street      LAT       LON  \n",
              "0  1900 S  LONGWOOD                     AV          NaN  34.0375 -118.3506  \n",
              "\n",
              "[1 rows x 28 columns]"
            ],
            "text/html": [
              "\n",
              "  <div id=\"df-33c33740-b7b4-45db-88a0-e5796f9f49fd\" class=\"colab-df-container\">\n",
              "    <div>\n",
              "<style scoped>\n",
              "    .dataframe tbody tr th:only-of-type {\n",
              "        vertical-align: middle;\n",
              "    }\n",
              "\n",
              "    .dataframe tbody tr th {\n",
              "        vertical-align: top;\n",
              "    }\n",
              "\n",
              "    .dataframe thead th {\n",
              "        text-align: right;\n",
              "    }\n",
              "</style>\n",
              "<table border=\"1\" class=\"dataframe\">\n",
              "  <thead>\n",
              "    <tr style=\"text-align: right;\">\n",
              "      <th></th>\n",
              "      <th>DR_NO</th>\n",
              "      <th>Date Rptd</th>\n",
              "      <th>DATE OCC</th>\n",
              "      <th>TIME OCC</th>\n",
              "      <th>AREA</th>\n",
              "      <th>AREA NAME</th>\n",
              "      <th>Rpt Dist No</th>\n",
              "      <th>Part 1-2</th>\n",
              "      <th>Crm Cd</th>\n",
              "      <th>Crm Cd Desc</th>\n",
              "      <th>...</th>\n",
              "      <th>Status</th>\n",
              "      <th>Status Desc</th>\n",
              "      <th>Crm Cd 1</th>\n",
              "      <th>Crm Cd 2</th>\n",
              "      <th>Crm Cd 3</th>\n",
              "      <th>Crm Cd 4</th>\n",
              "      <th>LOCATION</th>\n",
              "      <th>Cross Street</th>\n",
              "      <th>LAT</th>\n",
              "      <th>LON</th>\n",
              "    </tr>\n",
              "  </thead>\n",
              "  <tbody>\n",
              "    <tr>\n",
              "      <th>0</th>\n",
              "      <td>190326475</td>\n",
              "      <td>03/01/2020 12:00:00 AM</td>\n",
              "      <td>03/01/2020 12:00:00 AM</td>\n",
              "      <td>2130</td>\n",
              "      <td>7</td>\n",
              "      <td>Wilshire</td>\n",
              "      <td>784</td>\n",
              "      <td>1</td>\n",
              "      <td>510</td>\n",
              "      <td>VEHICLE - STOLEN</td>\n",
              "      <td>...</td>\n",
              "      <td>AA</td>\n",
              "      <td>Adult Arrest</td>\n",
              "      <td>510.0</td>\n",
              "      <td>998.0</td>\n",
              "      <td>NaN</td>\n",
              "      <td>NaN</td>\n",
              "      <td>1900 S  LONGWOOD                     AV</td>\n",
              "      <td>NaN</td>\n",
              "      <td>34.0375</td>\n",
              "      <td>-118.3506</td>\n",
              "    </tr>\n",
              "  </tbody>\n",
              "</table>\n",
              "<p>1 rows × 28 columns</p>\n",
              "</div>\n",
              "    <div class=\"colab-df-buttons\">\n",
              "\n",
              "  <div class=\"colab-df-container\">\n",
              "    <button class=\"colab-df-convert\" onclick=\"convertToInteractive('df-33c33740-b7b4-45db-88a0-e5796f9f49fd')\"\n",
              "            title=\"Convert this dataframe to an interactive table.\"\n",
              "            style=\"display:none;\">\n",
              "\n",
              "  <svg xmlns=\"http://www.w3.org/2000/svg\" height=\"24px\" viewBox=\"0 -960 960 960\">\n",
              "    <path d=\"M120-120v-720h720v720H120Zm60-500h600v-160H180v160Zm220 220h160v-160H400v160Zm0 220h160v-160H400v160ZM180-400h160v-160H180v160Zm440 0h160v-160H620v160ZM180-180h160v-160H180v160Zm440 0h160v-160H620v160Z\"/>\n",
              "  </svg>\n",
              "    </button>\n",
              "\n",
              "  <style>\n",
              "    .colab-df-container {\n",
              "      display:flex;\n",
              "      gap: 12px;\n",
              "    }\n",
              "\n",
              "    .colab-df-convert {\n",
              "      background-color: #E8F0FE;\n",
              "      border: none;\n",
              "      border-radius: 50%;\n",
              "      cursor: pointer;\n",
              "      display: none;\n",
              "      fill: #1967D2;\n",
              "      height: 32px;\n",
              "      padding: 0 0 0 0;\n",
              "      width: 32px;\n",
              "    }\n",
              "\n",
              "    .colab-df-convert:hover {\n",
              "      background-color: #E2EBFA;\n",
              "      box-shadow: 0px 1px 2px rgba(60, 64, 67, 0.3), 0px 1px 3px 1px rgba(60, 64, 67, 0.15);\n",
              "      fill: #174EA6;\n",
              "    }\n",
              "\n",
              "    .colab-df-buttons div {\n",
              "      margin-bottom: 4px;\n",
              "    }\n",
              "\n",
              "    [theme=dark] .colab-df-convert {\n",
              "      background-color: #3B4455;\n",
              "      fill: #D2E3FC;\n",
              "    }\n",
              "\n",
              "    [theme=dark] .colab-df-convert:hover {\n",
              "      background-color: #434B5C;\n",
              "      box-shadow: 0px 1px 3px 1px rgba(0, 0, 0, 0.15);\n",
              "      filter: drop-shadow(0px 1px 2px rgba(0, 0, 0, 0.3));\n",
              "      fill: #FFFFFF;\n",
              "    }\n",
              "  </style>\n",
              "\n",
              "    <script>\n",
              "      const buttonEl =\n",
              "        document.querySelector('#df-33c33740-b7b4-45db-88a0-e5796f9f49fd button.colab-df-convert');\n",
              "      buttonEl.style.display =\n",
              "        google.colab.kernel.accessAllowed ? 'block' : 'none';\n",
              "\n",
              "      async function convertToInteractive(key) {\n",
              "        const element = document.querySelector('#df-33c33740-b7b4-45db-88a0-e5796f9f49fd');\n",
              "        const dataTable =\n",
              "          await google.colab.kernel.invokeFunction('convertToInteractive',\n",
              "                                                    [key], {});\n",
              "        if (!dataTable) return;\n",
              "\n",
              "        const docLinkHtml = 'Like what you see? Visit the ' +\n",
              "          '<a target=\"_blank\" href=https://colab.research.google.com/notebooks/data_table.ipynb>data table notebook</a>'\n",
              "          + ' to learn more about interactive tables.';\n",
              "        element.innerHTML = '';\n",
              "        dataTable['output_type'] = 'display_data';\n",
              "        await google.colab.output.renderOutput(dataTable, element);\n",
              "        const docLink = document.createElement('div');\n",
              "        docLink.innerHTML = docLinkHtml;\n",
              "        element.appendChild(docLink);\n",
              "      }\n",
              "    </script>\n",
              "  </div>\n",
              "\n",
              "\n",
              "    </div>\n",
              "  </div>\n"
            ],
            "application/vnd.google.colaboratory.intrinsic+json": {
              "type": "dataframe"
            }
          },
          "metadata": {},
          "execution_count": 27
        }
      ]
    },
    {
      "cell_type": "markdown",
      "source": [
        "Creating dataframe using dictionary\n"
      ],
      "metadata": {
        "id": "x1PcIXGDeBYN"
      }
    },
    {
      "cell_type": "code",
      "source": [
        "d={'name':['aditya'],'age':[22]}\n",
        "d\n",
        "df=pd.DataFrame(d)\n",
        "df\n",
        "df.shape"
      ],
      "metadata": {
        "id": "9slIuSdGNY81",
        "colab": {
          "base_uri": "https://localhost:8080/"
        },
        "outputId": "942cf14d-cb8b-4eb5-eb63-14b8bdc13583"
      },
      "execution_count": 28,
      "outputs": [
        {
          "output_type": "execute_result",
          "data": {
            "text/plain": [
              "(1, 2)"
            ]
          },
          "metadata": {},
          "execution_count": 28
        }
      ]
    },
    {
      "cell_type": "code",
      "source": [],
      "metadata": {
        "id": "yWotRtNtNZKX"
      },
      "execution_count": 28,
      "outputs": []
    },
    {
      "cell_type": "code",
      "source": [],
      "metadata": {
        "id": "4IQPlI8YNZYJ"
      },
      "execution_count": 28,
      "outputs": []
    }
  ]
}